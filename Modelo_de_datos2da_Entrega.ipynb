{
  "cells": [
    {
      "cell_type": "markdown",
      "metadata": {
        "id": "view-in-github",
        "colab_type": "text"
      },
      "source": [
        "<a href=\"https://colab.research.google.com/github/elizaMa30/Formula-1-data/blob/develop/Modelo_de_datos2da_Entrega.ipynb\" target=\"_parent\"><img src=\"https://colab.research.google.com/assets/colab-badge.svg\" alt=\"Open In Colab\"/></a>"
      ]
    },
    {
      "cell_type": "markdown",
      "source": [
        "Las librerías que se usarán para el análisis son las siguientes:"
      ],
      "metadata": {
        "id": "_dpTEO4Ax7Wo"
      },
      "id": "_dpTEO4Ax7Wo"
    },
    {
      "cell_type": "code",
      "execution_count": null,
      "id": "9d1fb6d9",
      "metadata": {
        "id": "9d1fb6d9"
      },
      "outputs": [],
      "source": [
        "import pandas as pd\n",
        "import json\n",
        "import requests"
      ]
    },
    {
      "cell_type": "markdown",
      "source": [
        "# Primera entrega"
      ],
      "metadata": {
        "id": "hM-3kVl6yG6z"
      },
      "id": "hM-3kVl6yG6z"
    },
    {
      "cell_type": "markdown",
      "id": "693d6980",
      "metadata": {
        "id": "693d6980"
      },
      "source": [
        "# Tablas"
      ]
    },
    {
      "cell_type": "markdown",
      "id": "4ca001b4",
      "metadata": {
        "id": "4ca001b4"
      },
      "source": [
        "### Races"
      ]
    },
    {
      "cell_type": "code",
      "execution_count": null,
      "id": "b443f49e",
      "metadata": {
        "id": "b443f49e"
      },
      "outputs": [],
      "source": [
        "races={'year':[],'round':[],'raceName':[],'circuitId':[],'lat':[],'long':[],'country':[],'date':[],'url':[]}\n",
        "#Creamos un diccionario para almacenar la información extraida de la api y poder meterla a cada una de las listas (columnas)\n",
        "for year in list(range(2010,2023)): #hacemos ciclo porque la url/link cambia en el año\n",
        "    url='http://ergast.com/api/f1/{}.json?limit=1000'\n",
        "    response = requests.get(url.format(year)) #llamamos a la pagina \n",
        "    content=json.loads(response.content) #respuesta de la pagina\n",
        "    for item in content['MRData']['RaceTable']['Races']:# extraemos info\n",
        "        races['year'].append(int(item['season']))\n",
        "        races['round'].append(int(item['round']))\n",
        "        races['raceName'].append(item['raceName'])\n",
        "        races['circuitId'].append(item['Circuit']['circuitId'])\n",
        "        races['lat'].append(float(item['Circuit']['Location']['lat']))\n",
        "        races['long'].append(float(item['Circuit']['Location']['long']))\n",
        "        races['country'].append(item['Circuit']['Location']['country'])\n",
        "        races['date'].append(item['date'])\n",
        "        races['url'].append(item['url'])\n",
        "df_races=pd.DataFrame(races) #hacemos Dataframe\n",
        "df_races['date'] = df_races['date'].astype('datetime64[ns]')# cambiamos de tipo la columna de la fecha\n",
        "df_races.to_csv('Races.csv',index=False)"
      ]
    },
    {
      "cell_type": "markdown",
      "id": "39165af6",
      "metadata": {
        "id": "39165af6"
      },
      "source": [
        "### Seasons"
      ]
    },
    {
      "cell_type": "code",
      "execution_count": null,
      "id": "688ba190",
      "metadata": {
        "id": "688ba190"
      },
      "outputs": [],
      "source": [
        "url='http://ergast.com/api/f1/seasons.json?limit=1000'# utilizamos el ?limit=1000 para que no tengamos restricciones, sino solo nos daria los primeros 30\n",
        "response = requests.get(url)\n",
        "content=json.loads(response.content)\n",
        "season ={'year':[],'url':[]}\n",
        "#hacemos diccionario para despues almacenar lo extraido de la api\n",
        "for item in content['MRData']['SeasonTable']['Seasons']:#extraemos la info\n",
        "    season['year'].append(int(item['season']))\n",
        "    season['url'].append(item['url'])\n",
        "df_Season=pd.DataFrame(season) #Formamos Data Frame\n",
        "df_Season.to_csv('Seasons.csv',index=False) #Exportamos el archivo en formato csv"
      ]
    },
    {
      "cell_type": "markdown",
      "id": "069c4f3f",
      "metadata": {
        "id": "069c4f3f"
      },
      "source": [
        "### Drivers"
      ]
    },
    {
      "cell_type": "code",
      "execution_count": null,
      "id": "ad383cf5",
      "metadata": {
        "id": "ad383cf5"
      },
      "outputs": [],
      "source": [
        "drivers = {'year':[],\"DriverId\":[],\"Number\":[],\"code\":[],\"forename\":[],\"surname\":[],\"dob\":[],\"nationality\":[],\"url\":[]}\n",
        "#hacemos diccionario para despues almacenar lo extraido de la api\n",
        "for year in list(range(2010,2023)):# hacemos ciclo porque en la url/link cambia años\n",
        "    url='http://ergast.com/api/f1/{}/drivers.json?limit=1000'\n",
        "    response = requests.get(url.format(year))\n",
        "    content=json.loads(response.content)\n",
        "    for i in range(0,len(content['MRData']['DriverTable'][\"Drivers\"])):#traemos la info\n",
        "            drivers[\"year\"].append(int(content['MRData']['DriverTable']['season']))\n",
        "            try:\n",
        "                drivers[\"Number\"].append(int(content['MRData']['DriverTable']['Drivers'][i][\"permanentNumber\"]))\n",
        "            except:\n",
        "                drivers[\"Number\"].append(\"\")\n",
        "            drivers[\"DriverId\"].append(content['MRData']['DriverTable']['Drivers'][i][\"driverId\"])\n",
        "            try:\n",
        "                drivers[\"code\"].append(content['MRData']['DriverTable']['Drivers'][i][\"code\"])\n",
        "            except:\n",
        "                drivers[\"code\"].append(\"\")\n",
        "            drivers[\"forename\"].append(content['MRData']['DriverTable']['Drivers'][i][\"givenName\"])\n",
        "            drivers[\"surname\"].append(content['MRData']['DriverTable']['Drivers'][i][\"familyName\"])                       \n",
        "            drivers[\"dob\"].append(content['MRData']['DriverTable']['Drivers'][i][\"dateOfBirth\"])                        \n",
        "            drivers[\"nationality\"].append(content['MRData']['DriverTable']['Drivers'][i][\"nationality\"])\n",
        "            drivers[\"url\"].append(content['MRData']['DriverTable']['Drivers'][i][\"url\"]) \n",
        "df_drivers=pd.DataFrame(drivers) #Formamos un DataFrame\n",
        "df_drivers['dob'] = df_drivers['dob'].astype('datetime64[ns]') \n",
        "df_drivers.to_csv('Drivers.csv',index=False) #Exportamos el archivo en formato csv"
      ]
    },
    {
      "cell_type": "markdown",
      "id": "bc2a1480",
      "metadata": {
        "id": "bc2a1480"
      },
      "source": [
        "### Constructors"
      ]
    },
    {
      "cell_type": "code",
      "execution_count": null,
      "id": "74aa161e",
      "metadata": {
        "id": "74aa161e"
      },
      "outputs": [],
      "source": [
        "constructors = {\"year\":[],\"constuctorId\":[],\"name\":[],\"nationality\":[],\"url\":[],}\n",
        "#hacemos diccionario para despues almacenar lo extraido de la api\n",
        "for year in list(range(2010,2023)):#hacemos un for para extraer la info del año/temporada\n",
        "    url='http://ergast.com/api/f1/{}/constructors.json?limit=1000'\n",
        "    response = requests.get(url.format(year))\n",
        "    content=json.loads(response.content)\n",
        "    #hacemos ciclo para extraer info\n",
        "    for item in range(0,len(content['MRData']['ConstructorTable']['Constructors'])):\n",
        "        constructors[\"year\"].append(int(content['MRData']['ConstructorTable']['season']))\n",
        "        constructors[\"constuctorId\"].append(content['MRData']['ConstructorTable']['Constructors'][item]['constructorId'])\n",
        "        constructors['name'].append(content['MRData']['ConstructorTable']['Constructors'][item]['name'])\n",
        "        constructors['nationality'].append(content['MRData']['ConstructorTable']['Constructors'][item]['nationality'])\n",
        "        constructors['url'].append(content['MRData']['ConstructorTable']['Constructors'][item]['url'])\n",
        "df_constructors=pd.DataFrame(constructors) #Formamos un DataFrame\n",
        "df_constructors.to_csv('Constructors.csv',index=False) #Exportamos el archivo en formato csv"
      ]
    },
    {
      "cell_type": "markdown",
      "id": "e0e408fe",
      "metadata": {
        "id": "e0e408fe"
      },
      "source": [
        "### Circuits"
      ]
    },
    {
      "cell_type": "code",
      "execution_count": null,
      "id": "57b6cb5c",
      "metadata": {
        "id": "57b6cb5c"
      },
      "outputs": [],
      "source": [
        "circuits={'year':[],'circuitId':[],\n",
        "           'name':[],'location':[], 'country':[],\n",
        "           'lat':[], 'lng':[], 'alt':[],\n",
        "           'url':[]}\n",
        "#Creamos un diccionario para después almacenar la información extraída de la api\n",
        "for year in list(range(2010,2023)):\n",
        "    url= 'http://ergast.com/api/f1/{}/circuits.json?limit=1000'\n",
        "    response = requests.get(url.format(year))\n",
        "    content=json.loads(response.content)\n",
        "    path=content['MRData']['CircuitTable']\n",
        "    for item in range(0,len(path['Circuits'])):\n",
        "        circuits['year'].append(int(path['season']))\n",
        "        circuits['circuitId'].append(path['Circuits'][item]['circuitId'])\n",
        "        circuits['name'].append(path['Circuits'][item]['circuitName'])\n",
        "        circuits['location'].append(path['Circuits'][item]['Location']['locality'])\n",
        "        circuits['country'].append(path['Circuits'][item]['Location']['country'])\n",
        "        circuits['lat'].append(float(path['Circuits'][item]['Location']['lat']))\n",
        "        circuits['lng'].append(float(path['Circuits'][item]['Location']['long']))\n",
        "        circuits['alt'].append(path['Circuits'][item]['Location']['locality'])\n",
        "        circuits['url'].append(path['Circuits'][item]['url'])\n",
        "df_circuits=pd.DataFrame(circuits) #Formamos un DataFrame\n",
        "df_circuits.to_csv('Circuits.csv',index=False) #Exportamos el archivo en formato csv"
      ]
    },
    {
      "cell_type": "markdown",
      "id": "07d2baaf",
      "metadata": {
        "id": "07d2baaf"
      },
      "source": [
        "### Qualys"
      ]
    },
    {
      "cell_type": "code",
      "execution_count": null,
      "id": "924b3a0d",
      "metadata": {
        "id": "924b3a0d"
      },
      "outputs": [],
      "source": [
        "quali={\"year\":[],\"driverId\":[],\"ConstructorId\":[],\"number\":[],\"position\":[],\"qualifyId\":[],\"raceId\":[],\"q1\":[],\"q2\":[],\"q3\":[]}\n",
        "#Creamos un diccionario para almacenar la información extraída de la api\n",
        "for year in range(2010,2023):#separamos el url ya que necesitamos año/temporada y # de carrera\n",
        "    url='http://ergast.com/api/f1' \n",
        "    url1=url+'/{}.json?limit=1000'\n",
        "    #jugamos concatenando la url\n",
        "    url2=url+'/{}'.format(year)\n",
        "    response = requests.get(url1.format(year)) \n",
        "    content=json.loads(response.content)\n",
        "    link=[]#creamos una lista que va a contener los links y después hacemos el proceso de entrar a cada página para extraer los datos\n",
        "    for k in range(1,len(content['MRData']['RaceTable']['Races'])+1):\n",
        "        url3=url2+'/{}/qualifying.json?limit=100'\n",
        "        link.append(url3.format(k))\n",
        "        \n",
        "    for lk in link: #Extraemos la información\n",
        "        response = requests.get(lk)\n",
        "        content=json.loads(response.content)\n",
        "        for it in content['MRData']['RaceTable']['Races']:#doble for porque hay año y 20 carreras aprox en cada temporada\n",
        "            for it1 in content['MRData']['RaceTable']['Races'][0]['QualifyingResults']:\n",
        "                quali[\"year\"].append(int(it['season']))\n",
        "                quali[\"qualifyId\"].append(int( it['round']))\n",
        "                quali[\"raceId\"].append(it['raceName']) \n",
        "                quali[\"driverId\"].append(it1['Driver']['driverId'])   \n",
        "                quali[\"ConstructorId\"].append(it1['Constructor']['constructorId'])\n",
        "                quali[\"number\"].append(int(it1['number']))\n",
        "                quali[\"position\"].append(int(it1['position']))\n",
        "                #utilizamos try porque hay entradas NAS ya que se van eliminando \n",
        "                quali[\"q1\"].append(it1['Q1'])# se eliminan los ultimos 10\n",
        "                try:\n",
        "                    quali[\"q2\"].append(it1['Q2'])# se eliminan los ultimos 5 restantes\n",
        "                except:\n",
        "                    quali[\"q2\"].append(\"\")\n",
        "                try:\n",
        "                    quali[\"q3\"].append(it1['Q3'])# solo tienen tiempo los 5 restantes\n",
        "                except:\n",
        "                    quali[\"q3\"].append(\"\")\n",
        "\n",
        "dfquali=pd.DataFrame.from_dict(quali,orient='index') #Formamos un DataFrame\n",
        "dfquali=dfquali.transpose()\n",
        "dfquali.to_csv('Qualifiying.csv',index=False) #Exportamos el archivo en formato csv"
      ]
    },
    {
      "cell_type": "markdown",
      "source": [
        "# Segunda entrega\n"
      ],
      "metadata": {
        "id": "OuDfYVihkD6u"
      },
      "id": "OuDfYVihkD6u"
    },
    {
      "cell_type": "markdown",
      "source": [
        "### Sprint results"
      ],
      "metadata": {
        "id": "wUio9vEXkWNq"
      },
      "id": "wUio9vEXkWNq"
    },
    {
      "cell_type": "code",
      "execution_count": null,
      "metadata": {
        "id": "d9abe5f5",
        "colab": {
          "base_uri": "https://localhost:8080/"
        },
        "outputId": "c2f56dd7-5046-4acc-d291-672e17d2ac8f"
      },
      "outputs": [
        {
          "output_type": "stream",
          "name": "stdout",
          "text": [
            "   year              raceId        driverId round constructorId number grid  \\\n",
            "0  2021  British Grand Prix  max_verstappen    10      red_bull     33    2   \n",
            "1  2021  British Grand Prix        hamilton    10      mercedes     44    1   \n",
            "2  2021  British Grand Prix          bottas    10      mercedes     77    3   \n",
            "3  2021  British Grand Prix         leclerc    10       ferrari     16    4   \n",
            "4  2021  British Grand Prix          norris    10       mclaren      4    6   \n",
            "\n",
            "  position positionText points laps       time miliseconds fastestLap  \\\n",
            "0        1            1      3   17  25:38.426     1538426         14   \n",
            "1        2            2      2   17     +1.430     1539856         17   \n",
            "2        3            3      1   17     +7.502     1545928         17   \n",
            "3        4            4      0   17    +11.278     1549704         16   \n",
            "4        5            5      0   17    +24.111     1562537         16   \n",
            "\n",
            "   statusId fastestLapTime  \n",
            "0  Finished       1:30.013  \n",
            "1  Finished       1:29.937  \n",
            "2  Finished       1:29.958  \n",
            "3  Finished       1:30.163  \n",
            "4  Finished       1:30.566  \n"
          ]
        }
      ],
      "source": [
        "#Creamos un diccionario para almacenar la información extraída de la api\n",
        "sprintR={\"year\":[],\"raceId\":[],\n",
        "              \"driverId\":[],\"round\":[],\n",
        "              \"constructorId\":[],\"number\":[],\n",
        "              \"grid\":[],\"position\":[],\n",
        "              \"positionText\":[],\"points\":[],\n",
        "              \"laps\":[],\"time\":[],\n",
        "              \"miliseconds\":[],\"fastestLap\":[],\n",
        "              \"statusId\":[],\"fastestLapTime\":[]}\n",
        "\n",
        "for year in range(2010,2023): #Dividimos el URL en año y número de carrera.\n",
        "    url='http://ergast.com/api/f1' \n",
        "    url1=url+'/{}.json?limit=1000'\n",
        "    url3=url+'/{}'.format(year)\n",
        "    response = requests.get(url1.format(year)) \n",
        "    content=json.loads(response.content) \n",
        "    urls=[] #Hemos creado una lista con el propósito de almacenar los enlaces correspondientes a cada año junto con sus respectivas carreras.\n",
        "    for i in range(1,len(content['MRData']['RaceTable']['Races'])+1): #En este caso, hemos utilizado dos bucles for: uno para iterar sobre los años y otro para hacer lo mismo con las carreras..\n",
        "        url2=url3+'/{}/sprint.json?limit=1000'\n",
        "        response = requests.get(url2.format(i))\n",
        "        content=json.loads(response.content) \n",
        "        urls.append(url2.format(i)) #Estamos añadiendo gradualmente estos URL a los correspondientes a cada año.\n",
        "    i=0 \n",
        "    for j in urls: #Extraemos la información que requerimos de cada URL.\n",
        "        response = requests.get(j)\n",
        "        content=json.loads(response.content)\n",
        "        \n",
        "        try: #Empleamos el mismo método que en la tabla 'Driver' para manejar los datos NA, utilizando la estructura try y except.\n",
        "            for item in content['MRData']['RaceTable']['Races'][0]['SprintResults']:\n",
        "                sprintR[\"year\"].append(int(content['MRData']['RaceTable']['Races'][0]['season']))\n",
        "                sprintR[\"driverId\"].append(item[\"Driver\"][\"driverId\"])\n",
        "                sprintR[\"raceId\"].append(content['MRData']['RaceTable']['Races'][0]['raceName'])\n",
        "                sprintR[\"round\"].append(int(content['MRData']['RaceTable']['Races'][0]['round']))\n",
        "                sprintR[\"constructorId\"].append(item[\"Constructor\"][\"constructorId\"])\n",
        "                sprintR[\"number\"].append(int(item['Driver']['permanentNumber']))\n",
        "                sprintR[\"grid\"].append(int(item[\"grid\"]))\n",
        "                sprintR[\"position\"].append(int(item['position']))\n",
        "                sprintR[\"positionText\"].append(item['positionText'])\n",
        "                sprintR[\"points\"].append(int(item['points']))\n",
        "                sprintR[\"laps\"].append(int(item['laps']))\n",
        "                try:\n",
        "                    sprintR[\"time\"].append(item[\"Time\"][\"time\"])\n",
        "                except:\n",
        "                    sprintR[\"time\"].append(0)\n",
        "                try:\n",
        "                    sprintR[\"miliseconds\"].append(item[\"Time\"][\"millis\"])\n",
        "                except:\n",
        "                    sprintR[\"miliseconds\"].append(\"\")\n",
        "                try:    \n",
        "                    sprintR[\"fastestLap\"].append(item['FastestLap'][\"lap\"])\n",
        "                except:\n",
        "                    sprintR[\"fastestLap\"].append(\"\")\n",
        "                try:    \n",
        "                    sprintR[\"fastestLapTime\"].append(item['FastestLap']['Time']['time'])\n",
        "                except:\n",
        "                    sprintR[\"fastestLapTime\"].append(\"\")\n",
        "                try:    \n",
        "                    sprintR[\"statusId\"].append(item['status'])\n",
        "                except:\n",
        "                    sprintR[\"statusId\"].append(\"\")\n",
        "        except:\n",
        "            asd=1\n",
        "                \n",
        "#Transformamos nuestro diccionario en un DataFrame\n",
        "SprintR=pd.DataFrame.from_dict(sprintR,orient='index')\n",
        "SprintR=SprintR.transpose() #Lo transponemos\n",
        "\n",
        "print(SprintR.head())\n",
        "\n",
        "#Guardamos el DataFrame en formato CSV\n",
        "SprintR.to_csv('SprintResult.csv')"
      ],
      "id": "d9abe5f5"
    },
    {
      "cell_type": "markdown",
      "source": [
        "### Status"
      ],
      "metadata": {
        "id": "wDL9DvT0t1zJ"
      },
      "id": "wDL9DvT0t1zJ"
    },
    {
      "cell_type": "code",
      "source": [
        "#Creamos un diccionario para almacenar la información obtenida de la API.\n",
        "stat={\"year\":[],\n",
        "\"statusId\":[],\n",
        "\"status\":[]}\n",
        "\n",
        "#Creamos un ciclo para iterar sobre los años y acceder a la información de cada URL.\n",
        "for year in range(2010,2023):\n",
        "    url='http://ergast.com/api/f1/{}/status.json'\n",
        "    response = requests.get(url.format(year))\n",
        "    content=json.loads(response.content)\n",
        "    for item in content['MRData']['StatusTable'][\"Status\"]: #Aquí utilizamos dos bucles for: uno para iterar sobre los años y otro para hacer lo mismo con las carreras.\n",
        "        stat[\"statusId\"].append(item['statusId'])\n",
        "        stat[\"status\"].append(item['status'])\n",
        "        stat[\"year\"].append(content['MRData']['StatusTable']['season'])\n",
        "\n",
        "#Convertimos nuestro diccionario en un DataFrame.\n",
        "stats=pd.DataFrame(stat)\n",
        "\n",
        "print(stats.head())\n",
        "\n",
        "#Guardamos nuestro DataFrame en formato CSV.\n",
        "stats.to_csv('stat.csv')"
      ],
      "metadata": {
        "colab": {
          "base_uri": "https://localhost:8080/"
        },
        "id": "kDhyo0Rgt2FW",
        "outputId": "9d4cb017-8cc7-408e-dc39-07a971303426"
      },
      "id": "kDhyo0Rgt2FW",
      "execution_count": null,
      "outputs": [
        {
          "output_type": "stream",
          "name": "stdout",
          "text": [
            "   year statusId     status\n",
            "0  2010        1   Finished\n",
            "1  2010        3   Accident\n",
            "2  2010        4  Collision\n",
            "3  2010        5     Engine\n",
            "4  2010        6    Gearbox\n"
          ]
        }
      ]
    },
    {
      "cell_type": "markdown",
      "source": [
        "### Results"
      ],
      "metadata": {
        "id": "vHTrxBhYubBe"
      },
      "id": "vHTrxBhYubBe"
    },
    {
      "cell_type": "code",
      "execution_count": null,
      "metadata": {
        "id": "c037a337",
        "colab": {
          "base_uri": "https://localhost:8080/"
        },
        "outputId": "54c684cb-6c91-4eb3-ee5c-39f656e70d1b"
      },
      "outputs": [
        {
          "output_type": "stream",
          "name": "stdout",
          "text": [
            "   year              raceId  driverId constructorId number grid position  \\\n",
            "0  2010  Bahrain Grand Prix    alonso       ferrari     14    3        1   \n",
            "1  2010  Bahrain Grand Prix     massa       ferrari     19    2        2   \n",
            "2  2010  Bahrain Grand Prix  hamilton       mclaren     44    4        3   \n",
            "3  2010  Bahrain Grand Prix    vettel      red_bull      5    1        4   \n",
            "4  2010  Bahrain Grand Prix   rosberg      mercedes      6    5        5   \n",
            "\n",
            "  positionText points laps         time miliseconds fastestLap  \\\n",
            "0            1   25.0   49  1:39:20.396     5960396         45   \n",
            "1            2   18.0   49      +16.099     5976495         38   \n",
            "2            3   15.0   49      +23.182     5983578         42   \n",
            "3            4   12.0   49      +38.799     5999195         32   \n",
            "4            5   10.0   49      +40.213     6000609         45   \n",
            "\n",
            "  fastestLapSpeed  statusId fastestLapTime round  \n",
            "0         191.706  Finished       1:58.287     1  \n",
            "1         189.392  Finished       1:59.732     1  \n",
            "2         189.665  Finished       1:59.560     1  \n",
            "3         188.627  Finished       2:00.218     1  \n",
            "4         188.599  Finished       2:00.236     1  \n"
          ]
        }
      ],
      "source": [
        "#Creamos un diccionario para almacenar la información obtenida de la API.\n",
        "Result={\"year\":[],\"raceId\":[],\n",
        "          \"driverId\":[],\"constructorId\":[],\n",
        "          \"number\":[],\"grid\":[],\n",
        "          \"position\":[],\"positionText\":[],\n",
        "          \"points\":[],\"laps\":[],\n",
        "          \"time\":[],\"miliseconds\":[],\n",
        "          \"fastestLap\":[],\"fastestLapSpeed\":[],\n",
        "          \"statusId\":[],\"fastestLapTime\":[],\n",
        "          \"round\":[]}\n",
        "\n",
        "for year in range(2010,2023):\n",
        "    url='http://ergast.com/api/f1' \n",
        "    url1=url+'/{}.json?limit=1000'\n",
        "    url3=url+'/{}'.format(year)\n",
        "    response = requests.get(url1.format(year))\n",
        "    content=json.loads(response.content)\n",
        "    tampath=len(content['MRData']['RaceTable']['Races'])\n",
        "    links=[]\n",
        "    for i in range(1,tampath+1): \n",
        "        url2=url3+'/{}/results.json?limit=1000'\n",
        "        response = requests.get(url2.format(i))\n",
        "        content=json.loads(response.content)\n",
        "        links.append(url2.format(i))\n",
        "    i=0 \n",
        "    for j in links:\n",
        "        response = requests.get(j)\n",
        "        content=json.loads(response.content)\n",
        "        \n",
        "        for item in content['MRData']['RaceTable']['Races'][0]['Results']:\n",
        "            Result[\"year\"].append(int(content['MRData']['RaceTable']['Races'][0]['season']))\n",
        "            Result[\"raceId\"].append(content['MRData']['RaceTable']['Races'][0]['raceName'])\n",
        "            Result[\"round\"].append(int(content['MRData']['RaceTable']['Races'][0]['round']))\n",
        "            Result[\"driverId\"].append(item['Driver']['driverId'])\n",
        "            Result[\"constructorId\"].append(item['Constructor']['constructorId'])\n",
        "            try: #Empleamos el mismo método que en la tabla 'Driver' para manejar los datos NA, utilizando la estructura try y except.\n",
        "                Result[\"number\"].append(item['Driver']['permanentNumber'])\n",
        "            except:\n",
        "                Result[\"number\"].append(\"\")\n",
        "            Result[\"grid\"].append(item['grid'])\n",
        "            Result[\"position\"].append(int(item['position']))\n",
        "            Result[\"positionText\"].append(item['positionText'])\n",
        "            Result[\"points\"].append(float(item['points']))\n",
        "            Result[\"laps\"].append(int(item['laps']))\n",
        "            try:\n",
        "                Result[\"time\"].append(item['Time']['time'])\n",
        "            except:\n",
        "                Result[\"time\"].append(\"\")\n",
        "            try:\n",
        "                Result[\"miliseconds\"].append(int(item['Time']['millis']))\n",
        "            except: \n",
        "                Result[\"miliseconds\"].append(\"\")\n",
        "            try:\n",
        "                Result[\"fastestLap\"].append(int(item['FastestLap']['lap']))\n",
        "            except: \n",
        "                Result[\"fastestLap\"].append(\"\")\n",
        "            try:\n",
        "                Result[\"fastestLapTime\"].append(item['FastestLap']['Time']['time'])\n",
        "            except: \n",
        "                Result[\"fastestLapTime\"].append(\"\")\n",
        "            try:\n",
        "                Result[\"fastestLapSpeed\"].append(item['FastestLap']['AverageSpeed']['speed'])\n",
        "            except: \n",
        "                Result[\"fastestLapSpeed\"].append(\"\")\n",
        "                \n",
        "            try:\n",
        "                Result[\"statusId\"].append(item['status'])\n",
        "            except: \n",
        "                Result[\"statusId\"].append(\"\")\n",
        "                \n",
        "#Convertimos nuestro diccionario en un DataFrame.\n",
        "Results=pd.DataFrame.from_dict(Result,orient='index')\n",
        "Results=Results.transpose() #Transponemos       \n",
        "\n",
        "print(Results.head())\n",
        "\n",
        "#Guardamos nuestro DataFrame en formato CSV.\n",
        "Results.to_csv('Results.csv')"
      ],
      "id": "c037a337"
    },
    {
      "cell_type": "markdown",
      "source": [
        "###pitStops"
      ],
      "metadata": {
        "id": "g0gvkq5wvZnO"
      },
      "id": "g0gvkq5wvZnO"
    },
    {
      "cell_type": "code",
      "execution_count": null,
      "metadata": {
        "id": "5d4c13f3",
        "colab": {
          "base_uri": "https://localhost:8080/"
        },
        "outputId": "f51aaf76-6adf-4994-839a-762f3f9dfc90"
      },
      "outputs": [
        {
          "output_type": "stream",
          "name": "stdout",
          "text": [
            "   year                 raceId            driverId  stop  lap      time  \\\n",
            "0  2011  Australian Grand Prix         alguersuari     1    1  17:05:23   \n",
            "1  2011  Australian Grand Prix  michael_schumacher     1    1  17:05:52   \n",
            "2  2011  Australian Grand Prix              webber     1   11  17:20:48   \n",
            "3  2011  Australian Grand Prix              alonso     1   12  17:22:34   \n",
            "4  2011  Australian Grand Prix               massa     1   13  17:24:10   \n",
            "\n",
            "   round duration  \n",
            "0      1   26.898  \n",
            "1      1   25.021  \n",
            "2      1   23.426  \n",
            "3      1   23.251  \n",
            "4      1   23.842  \n"
          ]
        }
      ],
      "source": [
        "pitS = {'year':[],\n",
        "            \"raceId\":[],\n",
        "            'driverId':[], \n",
        "            'stop':[],\n",
        "            'lap':[], \n",
        "            'time':[],\n",
        "            'round':[], \n",
        "            'duration':[]}\n",
        "\n",
        "#Creamos ciclo para cambiar el año de cada URL.\n",
        "for year in range(2010,2023):\n",
        "    url='http://ergast.com/api/f1' \n",
        "    url1=url+'/{}.json?limit=1000'\n",
        "    url3=url+'/{}'.format(year)\n",
        "    response = requests.get(url1.format(year))\n",
        "    content=json.loads(response.content)\n",
        "    tampath=len(content['MRData']['RaceTable']['Races'])\n",
        "    links=[]\n",
        "    for i in range(1,tampath+1):  #Aqui usamos dos ciclos for, uno para el año y otro para la carrera.\n",
        "        url2=url3+'/{}/pitstops.json?limit=1000'\n",
        "        response = requests.get(url2.format(i))\n",
        "        content=json.loads(response.content)\n",
        "        links.append(url2.format(i))\n",
        "    i=0 \n",
        "    for j in links:\n",
        "        try: #Usamos el mismo proceso que en la tabla 'Driver' de try y except para los datos NA.\n",
        "            response = requests.get(j)\n",
        "            content=json.loads(response.content)\n",
        "        except:\n",
        "            print(f\"Hay un error en {j}\")\n",
        "        try: \n",
        "            content['MRData']['RaceTable']['Races'][0]['PitStops']\n",
        "            for item in content['MRData']['RaceTable']['Races'][0]['PitStops']:\n",
        "                pitS[\"raceId\"].append(content['MRData']['RaceTable']['Races'][0]['raceName'])\n",
        "                pitS[\"round\"].append(int(content['MRData']['RaceTable']['Races'][0]['round']))\n",
        "                pitS[\"year\"].append(int(content['MRData']['RaceTable']['Races'][0]['season']))\n",
        "                pitS[\"driverId\"].append(item['driverId'])\n",
        "                pitS[\"stop\"].append(int(item['stop']))\n",
        "                pitS[\"lap\"].append(int(item['lap']))\n",
        "                pitS[\"time\"].append(item['time'])\n",
        "                pitS[\"duration\"].append(item['duration'])\n",
        "            \n",
        "        except:\n",
        "            asd=1\n",
        "            \n",
        "        \n",
        "#Convertimos nuestro diccionario en un DataFrame.\n",
        "pitSs=pd.DataFrame(pitS)   \n",
        "\n",
        "print(pitSs.head())\n",
        "\n",
        "#Convertimos a DataFrame nuestro diccionario.\n",
        "pitSs.to_csv('pitStops.csv')"
      ],
      "id": "5d4c13f3"
    }
  ],
  "metadata": {
    "kernelspec": {
      "display_name": "Python 3 (ipykernel)",
      "language": "python",
      "name": "python3"
    },
    "language_info": {
      "codemirror_mode": {
        "name": "ipython",
        "version": 3
      },
      "file_extension": ".py",
      "mimetype": "text/x-python",
      "name": "python",
      "nbconvert_exporter": "python",
      "pygments_lexer": "ipython3",
      "version": "3.9.15"
    },
    "colab": {
      "provenance": [],
      "collapsed_sections": [
        "4ca001b4",
        "39165af6",
        "069c4f3f",
        "bc2a1480",
        "e0e408fe",
        "07d2baaf"
      ],
      "include_colab_link": true
    }
  },
  "nbformat": 4,
  "nbformat_minor": 5
}