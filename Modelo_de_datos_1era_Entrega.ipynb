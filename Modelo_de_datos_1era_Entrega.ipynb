{
  "cells": [
    {
      "cell_type": "code",
      "execution_count": 1,
      "id": "9d1fb6d9",
      "metadata": {
        "id": "9d1fb6d9"
      },
      "outputs": [],
      "source": [
        "import pandas as pd\n",
        "import json\n",
        "import requests"
      ]
    },
    {
      "cell_type": "markdown",
      "id": "693d6980",
      "metadata": {
        "id": "693d6980"
      },
      "source": [
        "# Tablas"
      ]
    },
    {
      "cell_type": "markdown",
      "id": "4ca001b4",
      "metadata": {
        "id": "4ca001b4"
      },
      "source": [
        "### Races"
      ]
    },
    {
      "cell_type": "code",
      "execution_count": 2,
      "id": "b443f49e",
      "metadata": {
        "id": "b443f49e"
      },
      "outputs": [],
      "source": [
        "races={'year':[],'round':[],'raceName':[],'circuitId':[],'lat':[],'long':[],'country':[],'date':[],'url':[]}\n",
        "#Creamos un diccionario para almacenar la información extraida de la api y poder meterla a cada una de las listas (columnas)\n",
        "for year in list(range(2010,2023)): #hacemos ciclo porque la url/link cambia en el año\n",
        "    url='http://ergast.com/api/f1/{}.json?limit=1000'\n",
        "    response = requests.get(url.format(year)) #llamamos a la pagina \n",
        "    content=json.loads(response.content) #respuesta de la pagina\n",
        "    for item in content['MRData']['RaceTable']['Races']:# extraemos info\n",
        "        races['year'].append(int(item['season']))\n",
        "        races['round'].append(int(item['round']))\n",
        "        races['raceName'].append(item['raceName'])\n",
        "        races['circuitId'].append(item['Circuit']['circuitId'])\n",
        "        races['lat'].append(float(item['Circuit']['Location']['lat']))\n",
        "        races['long'].append(float(item['Circuit']['Location']['long']))\n",
        "        races['country'].append(item['Circuit']['Location']['country'])\n",
        "        races['date'].append(item['date'])\n",
        "        races['url'].append(item['url'])\n",
        "df_races=pd.DataFrame(races) #hacemos Dataframe\n",
        "df_races['date'] = df_races['date'].astype('datetime64[ns]')# cambiamos de tipo la columna de la fecha\n",
        "df_races.to_csv('Races.csv',index=False)"
      ]
    },
    {
      "cell_type": "markdown",
      "id": "39165af6",
      "metadata": {
        "id": "39165af6"
      },
      "source": [
        "### Seasons"
      ]
    },
    {
      "cell_type": "code",
      "execution_count": 3,
      "id": "688ba190",
      "metadata": {
        "id": "688ba190"
      },
      "outputs": [],
      "source": [
        "url='http://ergast.com/api/f1/seasons.json?limit=1000'# utilizamos el ?limit=1000 para que no tengamos restricciones, sino solo nos daria los primeros 30\n",
        "response = requests.get(url)\n",
        "content=json.loads(response.content)\n",
        "season ={'year':[],'url':[]}\n",
        "#hacemos diccionario para despues almacenar lo extraido de la api\n",
        "for item in content['MRData']['SeasonTable']['Seasons']:#extraemos la info\n",
        "    season['year'].append(int(item['season']))\n",
        "    season['url'].append(item['url'])\n",
        "df_Season=pd.DataFrame(season) #Formamos Data Frame\n",
        "df_Season.to_csv('Seasons.csv',index=False) #Exportamos el archivo en formato csv"
      ]
    },
    {
      "cell_type": "markdown",
      "id": "069c4f3f",
      "metadata": {
        "id": "069c4f3f"
      },
      "source": [
        "### Drivers"
      ]
    },
    {
      "cell_type": "code",
      "execution_count": 4,
      "id": "ad383cf5",
      "metadata": {
        "id": "ad383cf5"
      },
      "outputs": [],
      "source": [
        "drivers = {'year':[],\"DriverId\":[],\"Number\":[],\"code\":[],\"forename\":[],\"surname\":[],\"dob\":[],\"nationality\":[],\"url\":[]}\n",
        "#hacemos diccionario para despues almacenar lo extraido de la api\n",
        "for year in list(range(2010,2023)):# hacemos ciclo porque en la url/link cambia años\n",
        "    url='http://ergast.com/api/f1/{}/drivers.json?limit=1000'\n",
        "    response = requests.get(url.format(year))\n",
        "    content=json.loads(response.content)\n",
        "    for i in range(0,len(content['MRData']['DriverTable'][\"Drivers\"])):#traemos la info\n",
        "            drivers[\"year\"].append(int(content['MRData']['DriverTable']['season']))\n",
        "            try:\n",
        "                drivers[\"Number\"].append(int(content['MRData']['DriverTable']['Drivers'][i][\"permanentNumber\"]))\n",
        "            except:\n",
        "                drivers[\"Number\"].append(\"\")\n",
        "            drivers[\"DriverId\"].append(content['MRData']['DriverTable']['Drivers'][i][\"driverId\"])\n",
        "            try:\n",
        "                drivers[\"code\"].append(content['MRData']['DriverTable']['Drivers'][i][\"code\"])\n",
        "            except:\n",
        "                drivers[\"code\"].append(\"\")\n",
        "            drivers[\"forename\"].append(content['MRData']['DriverTable']['Drivers'][i][\"givenName\"])\n",
        "            drivers[\"surname\"].append(content['MRData']['DriverTable']['Drivers'][i][\"familyName\"])                       \n",
        "            drivers[\"dob\"].append(content['MRData']['DriverTable']['Drivers'][i][\"dateOfBirth\"])                        \n",
        "            drivers[\"nationality\"].append(content['MRData']['DriverTable']['Drivers'][i][\"nationality\"])\n",
        "            drivers[\"url\"].append(content['MRData']['DriverTable']['Drivers'][i][\"url\"]) \n",
        "df_drivers=pd.DataFrame(drivers) #Formamos un DataFrame\n",
        "df_drivers['dob'] = df_drivers['dob'].astype('datetime64[ns]') \n",
        "df_drivers.to_csv('Drivers.csv',index=False) #Exportamos el archivo en formato csv"
      ]
    },
    {
      "cell_type": "markdown",
      "id": "bc2a1480",
      "metadata": {
        "id": "bc2a1480"
      },
      "source": [
        "### Constructors"
      ]
    },
    {
      "cell_type": "code",
      "execution_count": 5,
      "id": "74aa161e",
      "metadata": {
        "id": "74aa161e"
      },
      "outputs": [],
      "source": [
        "constructors = {\"year\":[],\"constuctorId\":[],\"name\":[],\"nationality\":[],\"url\":[],}\n",
        "#hacemos diccionario para despues almacenar lo extraido de la api\n",
        "for year in list(range(2010,2023)):#hacemos un for para extraer la info del año/temporada\n",
        "    url='http://ergast.com/api/f1/{}/constructors.json?limit=1000'\n",
        "    response = requests.get(url.format(year))\n",
        "    content=json.loads(response.content)\n",
        "    #hacemos ciclo para extraer info\n",
        "    for item in range(0,len(content['MRData']['ConstructorTable']['Constructors'])):\n",
        "        constructors[\"year\"].append(int(content['MRData']['ConstructorTable']['season']))\n",
        "        constructors[\"constuctorId\"].append(content['MRData']['ConstructorTable']['Constructors'][item]['constructorId'])\n",
        "        constructors['name'].append(content['MRData']['ConstructorTable']['Constructors'][item]['name'])\n",
        "        constructors['nationality'].append(content['MRData']['ConstructorTable']['Constructors'][item]['nationality'])\n",
        "        constructors['url'].append(content['MRData']['ConstructorTable']['Constructors'][item]['url'])\n",
        "df_constructors=pd.DataFrame(constructors) #Formamos un DataFrame\n",
        "df_constructors.to_csv('Constructors.csv',index=False) #Exportamos el archivo en formato csv"
      ]
    },
    {
      "cell_type": "markdown",
      "id": "e0e408fe",
      "metadata": {
        "id": "e0e408fe"
      },
      "source": [
        "### Circuits"
      ]
    },
    {
      "cell_type": "code",
      "execution_count": 6,
      "id": "57b6cb5c",
      "metadata": {
        "id": "57b6cb5c"
      },
      "outputs": [],
      "source": [
        "circuits={'year':[],'circuitId':[],\n",
        "           'name':[],'location':[], 'country':[],\n",
        "           'lat':[], 'lng':[], 'alt':[],\n",
        "           'url':[]}\n",
        "#Creamos un diccionario para después almacenar la información extraída de la api\n",
        "for year in list(range(2010,2023)):\n",
        "    url= 'http://ergast.com/api/f1/{}/circuits.json?limit=1000'\n",
        "    response = requests.get(url.format(year))\n",
        "    content=json.loads(response.content)\n",
        "    path=content['MRData']['CircuitTable']\n",
        "    for item in range(0,len(path['Circuits'])):\n",
        "        circuits['year'].append(int(path['season']))\n",
        "        circuits['circuitId'].append(path['Circuits'][item]['circuitId'])\n",
        "        circuits['name'].append(path['Circuits'][item]['circuitName'])\n",
        "        circuits['location'].append(path['Circuits'][item]['Location']['locality'])\n",
        "        circuits['country'].append(path['Circuits'][item]['Location']['country'])\n",
        "        circuits['lat'].append(float(path['Circuits'][item]['Location']['lat']))\n",
        "        circuits['lng'].append(float(path['Circuits'][item]['Location']['long']))\n",
        "        circuits['alt'].append(path['Circuits'][item]['Location']['locality'])\n",
        "        circuits['url'].append(path['Circuits'][item]['url'])\n",
        "df_circuits=pd.DataFrame(circuits) #Formamos un DataFrame\n",
        "df_circuits.to_csv('Circuits.csv',index=False) #Exportamos el archivo en formato csv"
      ]
    },
    {
      "cell_type": "markdown",
      "id": "07d2baaf",
      "metadata": {
        "id": "07d2baaf"
      },
      "source": [
        "### Qualys"
      ]
    },
    {
      "cell_type": "code",
      "execution_count": 7,
      "id": "924b3a0d",
      "metadata": {
        "id": "924b3a0d"
      },
      "outputs": [],
      "source": [
        "quali={\"year\":[],\"driverId\":[],\"ConstructorId\":[],\"number\":[],\"position\":[],\"qualifyId\":[],\"raceId\":[],\"q1\":[],\"q2\":[],\"q3\":[]}\n",
        "#Creamos un diccionario para almacenar la información extraída de la api\n",
        "for year in range(2010,2023):#separamos el url ya que necesitamos año/temporada y # de carrera\n",
        "    url='http://ergast.com/api/f1' \n",
        "    url1=url+'/{}.json?limit=1000'\n",
        "    #jugamos concatenando la url\n",
        "    url2=url+'/{}'.format(year)\n",
        "    response = requests.get(url1.format(year)) \n",
        "    content=json.loads(response.content)\n",
        "    link=[]#creamos una lista que va a contener los links y después hacemos el proceso de siempre\n",
        "    for k in range(1,len(content['MRData']['RaceTable']['Races'])+1):\n",
        "        url3=url2+'/{}/qualifying.json?limit=100'\n",
        "        link.append(url3.format(k))\n",
        "        \n",
        "    for lk in link: #Extraemos la información\n",
        "        response = requests.get(lk)\n",
        "        content=json.loads(response.content)\n",
        "        for it in content['MRData']['RaceTable']['Races']:#doble for porque hay año y 20 carreras aprox en cada temporada\n",
        "            for it1 in content['MRData']['RaceTable']['Races'][0]['QualifyingResults']:\n",
        "                quali[\"year\"].append(int(it['season']))\n",
        "                quali[\"qualifyId\"].append(int( it['round']))\n",
        "                quali[\"raceId\"].append(it['raceName']) \n",
        "                quali[\"driverId\"].append(it1['Driver']['driverId'])   \n",
        "                quali[\"ConstructorId\"].append(it1['Constructor']['constructorId'])\n",
        "                quali[\"number\"].append(int(it1['number']))\n",
        "                quali[\"position\"].append(int(it1['position']))\n",
        "                #utilizamos try porque hay entradas NAS ya que se van eliminando \n",
        "                quali[\"q1\"].append(it1['Q1'])# se eliminan los ultimos 10\n",
        "                try:\n",
        "                    quali[\"q2\"].append(it1['Q2'])# se eliminan los ultimos 5 restantes\n",
        "                except:\n",
        "                    quali[\"q2\"].append(\"\")\n",
        "                try:\n",
        "                    quali[\"q3\"].append(it1['Q3'])# solo tienen tiempo los 5 restantes\n",
        "                except:\n",
        "                    quali[\"q3\"].append(\"\")\n",
        "\n",
        "dfquali=pd.DataFrame.from_dict(quali,orient='index') #Formamos un DataFrame\n",
        "dfquali=dfquali.transpose()\n",
        "dfquali.to_csv('Qualifiying.csv',index=False) #Exportamos el archivo en formato csv"
      ]
    }
  ],
  "metadata": {
    "kernelspec": {
      "display_name": "Python 3 (ipykernel)",
      "language": "python",
      "name": "python3"
    },
    "language_info": {
      "codemirror_mode": {
        "name": "ipython",
        "version": 3
      },
      "file_extension": ".py",
      "mimetype": "text/x-python",
      "name": "python",
      "nbconvert_exporter": "python",
      "pygments_lexer": "ipython3",
      "version": "3.9.15"
    },
    "colab": {
      "provenance": []
    }
  },
  "nbformat": 4,
  "nbformat_minor": 5
}