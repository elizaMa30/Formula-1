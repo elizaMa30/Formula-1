{
  "nbformat": 4,
  "nbformat_minor": 0,
  "metadata": {
    "colab": {
      "provenance": [],
      "authorship_tag": "ABX9TyOkT68tUFxaJ6iNfiIEiMAm"
    },
    "kernelspec": {
      "name": "python3",
      "display_name": "Python 3"
    },
    "language_info": {
      "name": "python"
    }
  },
  "cells": [
    {
      "cell_type": "code",
      "execution_count": 23,
      "metadata": {
        "id": "UrSeDsZZyk5e"
      },
      "outputs": [],
      "source": [
        "import requests\n",
        "import pandas as pd\n",
        "import json"
      ]
    },
    {
      "cell_type": "code",
      "source": [
        "url = \"http://ergast.com/api/f1/2022/15.json\""
      ],
      "metadata": {
        "id": "s-6nBfVS26IC"
      },
      "execution_count": 24,
      "outputs": []
    },
    {
      "cell_type": "code",
      "source": [
        "r = requests.get(url)\n",
        "json = r.json()"
      ],
      "metadata": {
        "id": "ekuXtO5u3FKf"
      },
      "execution_count": 25,
      "outputs": []
    },
    {
      "cell_type": "code",
      "source": [
        "json.keys()"
      ],
      "metadata": {
        "id": "bOaFJZ305yQA",
        "colab": {
          "base_uri": "https://localhost:8080/"
        },
        "outputId": "b8d1cd90-084f-4eae-8601-380e942659d8"
      },
      "execution_count": 26,
      "outputs": [
        {
          "output_type": "execute_result",
          "data": {
            "text/plain": [
              "dict_keys(['MRData'])"
            ]
          },
          "metadata": {},
          "execution_count": 26
        }
      ]
    },
    {
      "cell_type": "code",
      "source": [
        "json['MRData']['RaceTable']"
      ],
      "metadata": {
        "id": "yNTd0vU851LQ",
        "colab": {
          "base_uri": "https://localhost:8080/"
        },
        "outputId": "fb54b60b-b43c-4027-8471-8323bb57816e"
      },
      "execution_count": 27,
      "outputs": [
        {
          "output_type": "execute_result",
          "data": {
            "text/plain": [
              "{'season': '2022',\n",
              " 'round': '15',\n",
              " 'Races': [{'season': '2022',\n",
              "   'round': '15',\n",
              "   'url': 'http://en.wikipedia.org/wiki/2022_Dutch_Grand_Prix',\n",
              "   'raceName': 'Dutch Grand Prix',\n",
              "   'Circuit': {'circuitId': 'zandvoort',\n",
              "    'url': 'http://en.wikipedia.org/wiki/Circuit_Zandvoort',\n",
              "    'circuitName': 'Circuit Park Zandvoort',\n",
              "    'Location': {'lat': '52.3888',\n",
              "     'long': '4.54092',\n",
              "     'locality': 'Zandvoort',\n",
              "     'country': 'Netherlands'}},\n",
              "   'date': '2022-09-04',\n",
              "   'time': '13:00:00Z',\n",
              "   'FirstPractice': {'date': '2022-09-02', 'time': '10:30:00Z'},\n",
              "   'SecondPractice': {'date': '2022-09-02', 'time': '14:00:00Z'},\n",
              "   'ThirdPractice': {'date': '2022-09-03', 'time': '10:00:00Z'},\n",
              "   'Qualifying': {'date': '2022-09-03', 'time': '13:00:00Z'}}]}"
            ]
          },
          "metadata": {},
          "execution_count": 27
        }
      ]
    },
    {
      "cell_type": "markdown",
      "source": [
        "Ahora, vamos a explorar \"Race Results\""
      ],
      "metadata": {
        "id": "oh9cdKgq9xZ5"
      }
    },
    {
      "cell_type": "code",
      "source": [
        "url2 ='https://ergast.com/api/f1/2022/22/results.json'"
      ],
      "metadata": {
        "id": "qNcAuUTs-CYE"
      },
      "execution_count": 34,
      "outputs": []
    },
    {
      "cell_type": "code",
      "source": [
        "r = requests.get(url2)\n",
        "json = r.json()"
      ],
      "metadata": {
        "id": "ITbjpkTo_2Fy"
      },
      "execution_count": 35,
      "outputs": []
    },
    {
      "cell_type": "code",
      "source": [
        "json.keys()"
      ],
      "metadata": {
        "id": "S1KYitR2_2OI",
        "colab": {
          "base_uri": "https://localhost:8080/"
        },
        "outputId": "76333d0d-dfb1-4edb-f5e7-573509d97b24"
      },
      "execution_count": 36,
      "outputs": [
        {
          "output_type": "execute_result",
          "data": {
            "text/plain": [
              "dict_keys(['MRData'])"
            ]
          },
          "metadata": {},
          "execution_count": 36
        }
      ]
    },
    {
      "cell_type": "code",
      "source": [
        "json['MRData']['RaceTable']['Races'][0].keys()"
      ],
      "metadata": {
        "colab": {
          "base_uri": "https://localhost:8080/"
        },
        "id": "3ZH9C9xkco7l",
        "outputId": "56a5dfff-2429-4421-e136-e1491652be1d"
      },
      "execution_count": 47,
      "outputs": [
        {
          "output_type": "execute_result",
          "data": {
            "text/plain": [
              "dict_keys(['season', 'round', 'url', 'raceName', 'Circuit', 'date', 'time', 'Results'])"
            ]
          },
          "metadata": {},
          "execution_count": 47
        }
      ]
    },
    {
      "cell_type": "code",
      "source": [
        "results = pd.DataFrame(json['MRData']['RaceTable']['Races'][0]['Results'])"
      ],
      "metadata": {
        "id": "vZbvrtts6OX6"
      },
      "execution_count": 67,
      "outputs": []
    },
    {
      "cell_type": "code",
      "source": [
        "results.head()"
      ],
      "metadata": {
        "colab": {
          "base_uri": "https://localhost:8080/",
          "height": 337
        },
        "id": "3PjZrIQjLL14",
        "outputId": "6b9ad7d0-5564-48db-b202-43dc85333e35"
      },
      "execution_count": 68,
      "outputs": [
        {
          "output_type": "execute_result",
          "data": {
            "text/plain": [
              "  number position positionText points  \\\n",
              "0      1        1            1     25   \n",
              "1     16        2            2     18   \n",
              "2     11        3            3     15   \n",
              "3     55        4            4     12   \n",
              "4     63        5            5     10   \n",
              "\n",
              "                                              Driver  \\\n",
              "0  {'driverId': 'max_verstappen', 'permanentNumbe...   \n",
              "1  {'driverId': 'leclerc', 'permanentNumber': '16...   \n",
              "2  {'driverId': 'perez', 'permanentNumber': '11',...   \n",
              "3  {'driverId': 'sainz', 'permanentNumber': '55',...   \n",
              "4  {'driverId': 'russell', 'permanentNumber': '63...   \n",
              "\n",
              "                                         Constructor grid laps    status  \\\n",
              "0  {'constructorId': 'red_bull', 'url': 'http://e...    1   58  Finished   \n",
              "1  {'constructorId': 'ferrari', 'url': 'http://en...    3   58  Finished   \n",
              "2  {'constructorId': 'red_bull', 'url': 'http://e...    2   58  Finished   \n",
              "3  {'constructorId': 'ferrari', 'url': 'http://en...    4   58  Finished   \n",
              "4  {'constructorId': 'mercedes', 'url': 'http://e...    6   58  Finished   \n",
              "\n",
              "                                           Time  \\\n",
              "0  {'millis': '5265914', 'time': '1:27:45.914'}   \n",
              "1       {'millis': '5274685', 'time': '+8.771'}   \n",
              "2      {'millis': '5276007', 'time': '+10.093'}   \n",
              "3      {'millis': '5290806', 'time': '+24.892'}   \n",
              "4      {'millis': '5301802', 'time': '+35.888'}   \n",
              "\n",
              "                                          FastestLap  \n",
              "0  {'rank': '6', 'lap': '54', 'Time': {'time': '1...  \n",
              "1  {'rank': '10', 'lap': '48', 'Time': {'time': '...  \n",
              "2  {'rank': '4', 'lap': '52', 'Time': {'time': '1...  \n",
              "3  {'rank': '3', 'lap': '50', 'Time': {'time': '1...  \n",
              "4  {'rank': '2', 'lap': '48', 'Time': {'time': '1...  "
            ],
            "text/html": [
              "\n",
              "  <div id=\"df-914bf4c8-1df9-4b38-bf79-cf2af3d15bfe\">\n",
              "    <div class=\"colab-df-container\">\n",
              "      <div>\n",
              "<style scoped>\n",
              "    .dataframe tbody tr th:only-of-type {\n",
              "        vertical-align: middle;\n",
              "    }\n",
              "\n",
              "    .dataframe tbody tr th {\n",
              "        vertical-align: top;\n",
              "    }\n",
              "\n",
              "    .dataframe thead th {\n",
              "        text-align: right;\n",
              "    }\n",
              "</style>\n",
              "<table border=\"1\" class=\"dataframe\">\n",
              "  <thead>\n",
              "    <tr style=\"text-align: right;\">\n",
              "      <th></th>\n",
              "      <th>number</th>\n",
              "      <th>position</th>\n",
              "      <th>positionText</th>\n",
              "      <th>points</th>\n",
              "      <th>Driver</th>\n",
              "      <th>Constructor</th>\n",
              "      <th>grid</th>\n",
              "      <th>laps</th>\n",
              "      <th>status</th>\n",
              "      <th>Time</th>\n",
              "      <th>FastestLap</th>\n",
              "    </tr>\n",
              "  </thead>\n",
              "  <tbody>\n",
              "    <tr>\n",
              "      <th>0</th>\n",
              "      <td>1</td>\n",
              "      <td>1</td>\n",
              "      <td>1</td>\n",
              "      <td>25</td>\n",
              "      <td>{'driverId': 'max_verstappen', 'permanentNumbe...</td>\n",
              "      <td>{'constructorId': 'red_bull', 'url': 'http://e...</td>\n",
              "      <td>1</td>\n",
              "      <td>58</td>\n",
              "      <td>Finished</td>\n",
              "      <td>{'millis': '5265914', 'time': '1:27:45.914'}</td>\n",
              "      <td>{'rank': '6', 'lap': '54', 'Time': {'time': '1...</td>\n",
              "    </tr>\n",
              "    <tr>\n",
              "      <th>1</th>\n",
              "      <td>16</td>\n",
              "      <td>2</td>\n",
              "      <td>2</td>\n",
              "      <td>18</td>\n",
              "      <td>{'driverId': 'leclerc', 'permanentNumber': '16...</td>\n",
              "      <td>{'constructorId': 'ferrari', 'url': 'http://en...</td>\n",
              "      <td>3</td>\n",
              "      <td>58</td>\n",
              "      <td>Finished</td>\n",
              "      <td>{'millis': '5274685', 'time': '+8.771'}</td>\n",
              "      <td>{'rank': '10', 'lap': '48', 'Time': {'time': '...</td>\n",
              "    </tr>\n",
              "    <tr>\n",
              "      <th>2</th>\n",
              "      <td>11</td>\n",
              "      <td>3</td>\n",
              "      <td>3</td>\n",
              "      <td>15</td>\n",
              "      <td>{'driverId': 'perez', 'permanentNumber': '11',...</td>\n",
              "      <td>{'constructorId': 'red_bull', 'url': 'http://e...</td>\n",
              "      <td>2</td>\n",
              "      <td>58</td>\n",
              "      <td>Finished</td>\n",
              "      <td>{'millis': '5276007', 'time': '+10.093'}</td>\n",
              "      <td>{'rank': '4', 'lap': '52', 'Time': {'time': '1...</td>\n",
              "    </tr>\n",
              "    <tr>\n",
              "      <th>3</th>\n",
              "      <td>55</td>\n",
              "      <td>4</td>\n",
              "      <td>4</td>\n",
              "      <td>12</td>\n",
              "      <td>{'driverId': 'sainz', 'permanentNumber': '55',...</td>\n",
              "      <td>{'constructorId': 'ferrari', 'url': 'http://en...</td>\n",
              "      <td>4</td>\n",
              "      <td>58</td>\n",
              "      <td>Finished</td>\n",
              "      <td>{'millis': '5290806', 'time': '+24.892'}</td>\n",
              "      <td>{'rank': '3', 'lap': '50', 'Time': {'time': '1...</td>\n",
              "    </tr>\n",
              "    <tr>\n",
              "      <th>4</th>\n",
              "      <td>63</td>\n",
              "      <td>5</td>\n",
              "      <td>5</td>\n",
              "      <td>10</td>\n",
              "      <td>{'driverId': 'russell', 'permanentNumber': '63...</td>\n",
              "      <td>{'constructorId': 'mercedes', 'url': 'http://e...</td>\n",
              "      <td>6</td>\n",
              "      <td>58</td>\n",
              "      <td>Finished</td>\n",
              "      <td>{'millis': '5301802', 'time': '+35.888'}</td>\n",
              "      <td>{'rank': '2', 'lap': '48', 'Time': {'time': '1...</td>\n",
              "    </tr>\n",
              "  </tbody>\n",
              "</table>\n",
              "</div>\n",
              "      <button class=\"colab-df-convert\" onclick=\"convertToInteractive('df-914bf4c8-1df9-4b38-bf79-cf2af3d15bfe')\"\n",
              "              title=\"Convert this dataframe to an interactive table.\"\n",
              "              style=\"display:none;\">\n",
              "        \n",
              "  <svg xmlns=\"http://www.w3.org/2000/svg\" height=\"24px\"viewBox=\"0 0 24 24\"\n",
              "       width=\"24px\">\n",
              "    <path d=\"M0 0h24v24H0V0z\" fill=\"none\"/>\n",
              "    <path d=\"M18.56 5.44l.94 2.06.94-2.06 2.06-.94-2.06-.94-.94-2.06-.94 2.06-2.06.94zm-11 1L8.5 8.5l.94-2.06 2.06-.94-2.06-.94L8.5 2.5l-.94 2.06-2.06.94zm10 10l.94 2.06.94-2.06 2.06-.94-2.06-.94-.94-2.06-.94 2.06-2.06.94z\"/><path d=\"M17.41 7.96l-1.37-1.37c-.4-.4-.92-.59-1.43-.59-.52 0-1.04.2-1.43.59L10.3 9.45l-7.72 7.72c-.78.78-.78 2.05 0 2.83L4 21.41c.39.39.9.59 1.41.59.51 0 1.02-.2 1.41-.59l7.78-7.78 2.81-2.81c.8-.78.8-2.07 0-2.86zM5.41 20L4 18.59l7.72-7.72 1.47 1.35L5.41 20z\"/>\n",
              "  </svg>\n",
              "      </button>\n",
              "      \n",
              "  <style>\n",
              "    .colab-df-container {\n",
              "      display:flex;\n",
              "      flex-wrap:wrap;\n",
              "      gap: 12px;\n",
              "    }\n",
              "\n",
              "    .colab-df-convert {\n",
              "      background-color: #E8F0FE;\n",
              "      border: none;\n",
              "      border-radius: 50%;\n",
              "      cursor: pointer;\n",
              "      display: none;\n",
              "      fill: #1967D2;\n",
              "      height: 32px;\n",
              "      padding: 0 0 0 0;\n",
              "      width: 32px;\n",
              "    }\n",
              "\n",
              "    .colab-df-convert:hover {\n",
              "      background-color: #E2EBFA;\n",
              "      box-shadow: 0px 1px 2px rgba(60, 64, 67, 0.3), 0px 1px 3px 1px rgba(60, 64, 67, 0.15);\n",
              "      fill: #174EA6;\n",
              "    }\n",
              "\n",
              "    [theme=dark] .colab-df-convert {\n",
              "      background-color: #3B4455;\n",
              "      fill: #D2E3FC;\n",
              "    }\n",
              "\n",
              "    [theme=dark] .colab-df-convert:hover {\n",
              "      background-color: #434B5C;\n",
              "      box-shadow: 0px 1px 3px 1px rgba(0, 0, 0, 0.15);\n",
              "      filter: drop-shadow(0px 1px 2px rgba(0, 0, 0, 0.3));\n",
              "      fill: #FFFFFF;\n",
              "    }\n",
              "  </style>\n",
              "\n",
              "      <script>\n",
              "        const buttonEl =\n",
              "          document.querySelector('#df-914bf4c8-1df9-4b38-bf79-cf2af3d15bfe button.colab-df-convert');\n",
              "        buttonEl.style.display =\n",
              "          google.colab.kernel.accessAllowed ? 'block' : 'none';\n",
              "\n",
              "        async function convertToInteractive(key) {\n",
              "          const element = document.querySelector('#df-914bf4c8-1df9-4b38-bf79-cf2af3d15bfe');\n",
              "          const dataTable =\n",
              "            await google.colab.kernel.invokeFunction('convertToInteractive',\n",
              "                                                     [key], {});\n",
              "          if (!dataTable) return;\n",
              "\n",
              "          const docLinkHtml = 'Like what you see? Visit the ' +\n",
              "            '<a target=\"_blank\" href=https://colab.research.google.com/notebooks/data_table.ipynb>data table notebook</a>'\n",
              "            + ' to learn more about interactive tables.';\n",
              "          element.innerHTML = '';\n",
              "          dataTable['output_type'] = 'display_data';\n",
              "          await google.colab.output.renderOutput(dataTable, element);\n",
              "          const docLink = document.createElement('div');\n",
              "          docLink.innerHTML = docLinkHtml;\n",
              "          element.appendChild(docLink);\n",
              "        }\n",
              "      </script>\n",
              "    </div>\n",
              "  </div>\n",
              "  "
            ]
          },
          "metadata": {},
          "execution_count": 68
        }
      ]
    },
    {
      "cell_type": "code",
      "source": [
        "for i in range(len(results['Driver'])):\n",
        "  print(results['Driver'][i]['driverId'])"
      ],
      "metadata": {
        "colab": {
          "base_uri": "https://localhost:8080/"
        },
        "id": "W_MmJ8apeJvQ",
        "outputId": "f9a58c0d-9902-4297-e181-4dcbe2f08ad6"
      },
      "execution_count": 69,
      "outputs": [
        {
          "output_type": "stream",
          "name": "stdout",
          "text": [
            "max_verstappen\n",
            "leclerc\n",
            "perez\n",
            "sainz\n",
            "russell\n",
            "norris\n",
            "ocon\n",
            "stroll\n",
            "ricciardo\n",
            "vettel\n",
            "tsunoda\n",
            "zhou\n",
            "albon\n",
            "gasly\n",
            "bottas\n",
            "mick_schumacher\n",
            "kevin_magnussen\n",
            "hamilton\n",
            "latifi\n",
            "alonso\n"
          ]
        }
      ]
    },
    {
      "cell_type": "code",
      "source": [
        "results['Driver'] = results['Driver'].apply(lambda x: x['driverId'])"
      ],
      "metadata": {
        "id": "EXS5HLjWLVMX"
      },
      "execution_count": 70,
      "outputs": []
    },
    {
      "cell_type": "code",
      "source": [
        "results['Constructor'] = results['Constructor'].apply(lambda x: x['constructorId'])\n",
        "results.head()"
      ],
      "metadata": {
        "colab": {
          "base_uri": "https://localhost:8080/",
          "height": 250
        },
        "id": "JhDxVpN9ewqI",
        "outputId": "274a0133-8f04-4dc9-9700-55e96fc571a2"
      },
      "execution_count": 71,
      "outputs": [
        {
          "output_type": "execute_result",
          "data": {
            "text/plain": [
              "  number position positionText points          Driver Constructor grid laps  \\\n",
              "0      1        1            1     25  max_verstappen    red_bull    1   58   \n",
              "1     16        2            2     18         leclerc     ferrari    3   58   \n",
              "2     11        3            3     15           perez    red_bull    2   58   \n",
              "3     55        4            4     12           sainz     ferrari    4   58   \n",
              "4     63        5            5     10         russell    mercedes    6   58   \n",
              "\n",
              "     status                                          Time  \\\n",
              "0  Finished  {'millis': '5265914', 'time': '1:27:45.914'}   \n",
              "1  Finished       {'millis': '5274685', 'time': '+8.771'}   \n",
              "2  Finished      {'millis': '5276007', 'time': '+10.093'}   \n",
              "3  Finished      {'millis': '5290806', 'time': '+24.892'}   \n",
              "4  Finished      {'millis': '5301802', 'time': '+35.888'}   \n",
              "\n",
              "                                          FastestLap  \n",
              "0  {'rank': '6', 'lap': '54', 'Time': {'time': '1...  \n",
              "1  {'rank': '10', 'lap': '48', 'Time': {'time': '...  \n",
              "2  {'rank': '4', 'lap': '52', 'Time': {'time': '1...  \n",
              "3  {'rank': '3', 'lap': '50', 'Time': {'time': '1...  \n",
              "4  {'rank': '2', 'lap': '48', 'Time': {'time': '1...  "
            ],
            "text/html": [
              "\n",
              "  <div id=\"df-8815b4de-3009-43cb-9044-56a6ece7d331\">\n",
              "    <div class=\"colab-df-container\">\n",
              "      <div>\n",
              "<style scoped>\n",
              "    .dataframe tbody tr th:only-of-type {\n",
              "        vertical-align: middle;\n",
              "    }\n",
              "\n",
              "    .dataframe tbody tr th {\n",
              "        vertical-align: top;\n",
              "    }\n",
              "\n",
              "    .dataframe thead th {\n",
              "        text-align: right;\n",
              "    }\n",
              "</style>\n",
              "<table border=\"1\" class=\"dataframe\">\n",
              "  <thead>\n",
              "    <tr style=\"text-align: right;\">\n",
              "      <th></th>\n",
              "      <th>number</th>\n",
              "      <th>position</th>\n",
              "      <th>positionText</th>\n",
              "      <th>points</th>\n",
              "      <th>Driver</th>\n",
              "      <th>Constructor</th>\n",
              "      <th>grid</th>\n",
              "      <th>laps</th>\n",
              "      <th>status</th>\n",
              "      <th>Time</th>\n",
              "      <th>FastestLap</th>\n",
              "    </tr>\n",
              "  </thead>\n",
              "  <tbody>\n",
              "    <tr>\n",
              "      <th>0</th>\n",
              "      <td>1</td>\n",
              "      <td>1</td>\n",
              "      <td>1</td>\n",
              "      <td>25</td>\n",
              "      <td>max_verstappen</td>\n",
              "      <td>red_bull</td>\n",
              "      <td>1</td>\n",
              "      <td>58</td>\n",
              "      <td>Finished</td>\n",
              "      <td>{'millis': '5265914', 'time': '1:27:45.914'}</td>\n",
              "      <td>{'rank': '6', 'lap': '54', 'Time': {'time': '1...</td>\n",
              "    </tr>\n",
              "    <tr>\n",
              "      <th>1</th>\n",
              "      <td>16</td>\n",
              "      <td>2</td>\n",
              "      <td>2</td>\n",
              "      <td>18</td>\n",
              "      <td>leclerc</td>\n",
              "      <td>ferrari</td>\n",
              "      <td>3</td>\n",
              "      <td>58</td>\n",
              "      <td>Finished</td>\n",
              "      <td>{'millis': '5274685', 'time': '+8.771'}</td>\n",
              "      <td>{'rank': '10', 'lap': '48', 'Time': {'time': '...</td>\n",
              "    </tr>\n",
              "    <tr>\n",
              "      <th>2</th>\n",
              "      <td>11</td>\n",
              "      <td>3</td>\n",
              "      <td>3</td>\n",
              "      <td>15</td>\n",
              "      <td>perez</td>\n",
              "      <td>red_bull</td>\n",
              "      <td>2</td>\n",
              "      <td>58</td>\n",
              "      <td>Finished</td>\n",
              "      <td>{'millis': '5276007', 'time': '+10.093'}</td>\n",
              "      <td>{'rank': '4', 'lap': '52', 'Time': {'time': '1...</td>\n",
              "    </tr>\n",
              "    <tr>\n",
              "      <th>3</th>\n",
              "      <td>55</td>\n",
              "      <td>4</td>\n",
              "      <td>4</td>\n",
              "      <td>12</td>\n",
              "      <td>sainz</td>\n",
              "      <td>ferrari</td>\n",
              "      <td>4</td>\n",
              "      <td>58</td>\n",
              "      <td>Finished</td>\n",
              "      <td>{'millis': '5290806', 'time': '+24.892'}</td>\n",
              "      <td>{'rank': '3', 'lap': '50', 'Time': {'time': '1...</td>\n",
              "    </tr>\n",
              "    <tr>\n",
              "      <th>4</th>\n",
              "      <td>63</td>\n",
              "      <td>5</td>\n",
              "      <td>5</td>\n",
              "      <td>10</td>\n",
              "      <td>russell</td>\n",
              "      <td>mercedes</td>\n",
              "      <td>6</td>\n",
              "      <td>58</td>\n",
              "      <td>Finished</td>\n",
              "      <td>{'millis': '5301802', 'time': '+35.888'}</td>\n",
              "      <td>{'rank': '2', 'lap': '48', 'Time': {'time': '1...</td>\n",
              "    </tr>\n",
              "  </tbody>\n",
              "</table>\n",
              "</div>\n",
              "      <button class=\"colab-df-convert\" onclick=\"convertToInteractive('df-8815b4de-3009-43cb-9044-56a6ece7d331')\"\n",
              "              title=\"Convert this dataframe to an interactive table.\"\n",
              "              style=\"display:none;\">\n",
              "        \n",
              "  <svg xmlns=\"http://www.w3.org/2000/svg\" height=\"24px\"viewBox=\"0 0 24 24\"\n",
              "       width=\"24px\">\n",
              "    <path d=\"M0 0h24v24H0V0z\" fill=\"none\"/>\n",
              "    <path d=\"M18.56 5.44l.94 2.06.94-2.06 2.06-.94-2.06-.94-.94-2.06-.94 2.06-2.06.94zm-11 1L8.5 8.5l.94-2.06 2.06-.94-2.06-.94L8.5 2.5l-.94 2.06-2.06.94zm10 10l.94 2.06.94-2.06 2.06-.94-2.06-.94-.94-2.06-.94 2.06-2.06.94z\"/><path d=\"M17.41 7.96l-1.37-1.37c-.4-.4-.92-.59-1.43-.59-.52 0-1.04.2-1.43.59L10.3 9.45l-7.72 7.72c-.78.78-.78 2.05 0 2.83L4 21.41c.39.39.9.59 1.41.59.51 0 1.02-.2 1.41-.59l7.78-7.78 2.81-2.81c.8-.78.8-2.07 0-2.86zM5.41 20L4 18.59l7.72-7.72 1.47 1.35L5.41 20z\"/>\n",
              "  </svg>\n",
              "      </button>\n",
              "      \n",
              "  <style>\n",
              "    .colab-df-container {\n",
              "      display:flex;\n",
              "      flex-wrap:wrap;\n",
              "      gap: 12px;\n",
              "    }\n",
              "\n",
              "    .colab-df-convert {\n",
              "      background-color: #E8F0FE;\n",
              "      border: none;\n",
              "      border-radius: 50%;\n",
              "      cursor: pointer;\n",
              "      display: none;\n",
              "      fill: #1967D2;\n",
              "      height: 32px;\n",
              "      padding: 0 0 0 0;\n",
              "      width: 32px;\n",
              "    }\n",
              "\n",
              "    .colab-df-convert:hover {\n",
              "      background-color: #E2EBFA;\n",
              "      box-shadow: 0px 1px 2px rgba(60, 64, 67, 0.3), 0px 1px 3px 1px rgba(60, 64, 67, 0.15);\n",
              "      fill: #174EA6;\n",
              "    }\n",
              "\n",
              "    [theme=dark] .colab-df-convert {\n",
              "      background-color: #3B4455;\n",
              "      fill: #D2E3FC;\n",
              "    }\n",
              "\n",
              "    [theme=dark] .colab-df-convert:hover {\n",
              "      background-color: #434B5C;\n",
              "      box-shadow: 0px 1px 3px 1px rgba(0, 0, 0, 0.15);\n",
              "      filter: drop-shadow(0px 1px 2px rgba(0, 0, 0, 0.3));\n",
              "      fill: #FFFFFF;\n",
              "    }\n",
              "  </style>\n",
              "\n",
              "      <script>\n",
              "        const buttonEl =\n",
              "          document.querySelector('#df-8815b4de-3009-43cb-9044-56a6ece7d331 button.colab-df-convert');\n",
              "        buttonEl.style.display =\n",
              "          google.colab.kernel.accessAllowed ? 'block' : 'none';\n",
              "\n",
              "        async function convertToInteractive(key) {\n",
              "          const element = document.querySelector('#df-8815b4de-3009-43cb-9044-56a6ece7d331');\n",
              "          const dataTable =\n",
              "            await google.colab.kernel.invokeFunction('convertToInteractive',\n",
              "                                                     [key], {});\n",
              "          if (!dataTable) return;\n",
              "\n",
              "          const docLinkHtml = 'Like what you see? Visit the ' +\n",
              "            '<a target=\"_blank\" href=https://colab.research.google.com/notebooks/data_table.ipynb>data table notebook</a>'\n",
              "            + ' to learn more about interactive tables.';\n",
              "          element.innerHTML = '';\n",
              "          dataTable['output_type'] = 'display_data';\n",
              "          await google.colab.output.renderOutput(dataTable, element);\n",
              "          const docLink = document.createElement('div');\n",
              "          docLink.innerHTML = docLinkHtml;\n",
              "          element.appendChild(docLink);\n",
              "        }\n",
              "      </script>\n",
              "    </div>\n",
              "  </div>\n",
              "  "
            ]
          },
          "metadata": {},
          "execution_count": 71
        }
      ]
    },
    {
      "cell_type": "code",
      "source": [
        "g=results['Constructor'].apply(lambda x:x['constructorId'])\n",
        "g"
      ],
      "metadata": {
        "id": "VNb5Vtt3LdfJ",
        "colab": {
          "base_uri": "https://localhost:8080/"
        },
        "outputId": "238d1934-0350-4681-9beb-bdd29707b32b"
      },
      "execution_count": 18,
      "outputs": [
        {
          "output_type": "execute_result",
          "data": {
            "text/plain": [
              "0         red_bull\n",
              "1          ferrari\n",
              "2         red_bull\n",
              "3          ferrari\n",
              "4         mercedes\n",
              "5          mclaren\n",
              "6           alpine\n",
              "7     aston_martin\n",
              "8          mclaren\n",
              "9     aston_martin\n",
              "10      alphatauri\n",
              "11            alfa\n",
              "12        williams\n",
              "13      alphatauri\n",
              "14            alfa\n",
              "15            haas\n",
              "16            haas\n",
              "17        mercedes\n",
              "18        williams\n",
              "19          alpine\n",
              "Name: Constructor, dtype: object"
            ]
          },
          "metadata": {},
          "execution_count": 18
        }
      ]
    },
    {
      "cell_type": "code",
      "source": [
        "results['FastestLap'].apply(lambda x:x['rank'])"
      ],
      "metadata": {
        "colab": {
          "base_uri": "https://localhost:8080/"
        },
        "id": "vsIcMNuwLhQl",
        "outputId": "2af7128f-4e46-4d5a-cfc2-0afe86f5c081"
      },
      "execution_count": null,
      "outputs": [
        {
          "output_type": "execute_result",
          "data": {
            "text/plain": [
              "0      6\n",
              "1     10\n",
              "2      4\n",
              "3      3\n",
              "4      2\n",
              "5      1\n",
              "6      5\n",
              "7      9\n",
              "8     18\n",
              "9     15\n",
              "10     7\n",
              "11     8\n",
              "12    13\n",
              "13    19\n",
              "14    16\n",
              "15    12\n",
              "16    20\n",
              "17    11\n",
              "18    14\n",
              "19    17\n",
              "Name: FastestLap, dtype: object"
            ]
          },
          "metadata": {},
          "execution_count": 14
        }
      ]
    },
    {
      "cell_type": "code",
      "source": [
        "a=[]\n",
        "for i in range(len(results['position'])):\n",
        "    b=results['position'][i]\n",
        "    a.append(int(b))\n",
        "a"
      ],
      "metadata": {
        "colab": {
          "base_uri": "https://localhost:8080/"
        },
        "id": "hc42p7SJLlOo",
        "outputId": "a302a1da-4469-463e-da6d-8f49a0086d03"
      },
      "execution_count": null,
      "outputs": [
        {
          "output_type": "execute_result",
          "data": {
            "text/plain": [
              "[1, 2, 3, 4, 5, 6, 7, 8, 9, 10, 11, 12, 13, 14, 15, 16, 17, 18, 19, 20]"
            ]
          },
          "metadata": {},
          "execution_count": 15
        }
      ]
    },
    {
      "cell_type": "code",
      "source": [
        "a=[]\n",
        "for i in range(len(results['position'])):\n",
        "    b=results['position'][i]\n",
        "    a.append(int(b))\n",
        "a"
      ],
      "metadata": {
        "colab": {
          "base_uri": "https://localhost:8080/"
        },
        "id": "Z33qv8raLnCe",
        "outputId": "02dace91-9ef9-4ebb-cba7-642e4089a640"
      },
      "execution_count": null,
      "outputs": [
        {
          "output_type": "execute_result",
          "data": {
            "text/plain": [
              "[1, 2, 3, 4, 5, 6, 7, 8, 9, 10, 11, 12, 13, 14, 15, 16, 17, 18, 19, 20]"
            ]
          },
          "metadata": {},
          "execution_count": 16
        }
      ]
    }
  ]
}